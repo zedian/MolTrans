{
 "cells": [
  {
   "cell_type": "code",
   "execution_count": 2,
   "id": "a7006ab8",
   "metadata": {},
   "outputs": [],
   "source": [
    "import torch\n",
    "import torch.nn.functional as F\n",
    "\n",
    "import pandas as pd\n",
    "import matplotlib.pyplot as plt\n",
    "import numpy as np\n",
    "\n",
    "import codecs\n",
    "\n",
    "\n",
    "from sklearn.metrics import roc_auc_score, average_precision_score, f1_score, roc_curve, confusion_matrix, precision_score, recall_score, auc\n",
    "from sklearn.model_selection import KFold\n",
    "from tqdm import tqdm\n",
    "from torch.utils import data\n",
    "from torch import nn\n",
    "\n",
    "from deepchem.feat.smiles_tokenizer import SmilesTokenizer\n",
    "\n",
    "device = torch.device(\"cuda:0\" if torch.cuda.is_available() else \"cpu\")"
   ]
  },
  {
   "cell_type": "code",
   "execution_count": null,
   "id": "7f1e9168",
   "metadata": {},
   "outputs": [],
   "source": [
    "drug_max_len = 50 #MolTrans\n",
    "protein_max_len = 545 #MolTrans\n",
    "\n",
    "def drug_encoder(smile):\n",
    "    print(smile)\n",
    "    \n",
    "def protein_encoder(seq):\n",
    "    print(seq)\n",
    "    \n",
    "def load_data(folder_name):\n",
    "    df_train = pd.read_csv(folder_name + '/train.csv')\n",
    "    df_val = pd.read_csv(folder_name + '/val.csv')\n",
    "    df_test = pd.read_csv(folder_name + '/test.csv')\n",
    "    \n",
    "    \n",
    "    "
   ]
  },
  {
   "cell_type": "code",
   "execution_count": 3,
   "id": "92622849",
   "metadata": {},
   "outputs": [],
   "source": [
    "vocab_path = './ESPF/protein_codes_uniprot.txt'\n",
    "bpe_codes_protein = codecs.open(vocab_path)"
   ]
  },
  {
   "cell_type": "code",
   "execution_count": 4,
   "id": "c6eea2c8",
   "metadata": {},
   "outputs": [
    {
     "data": {
      "text/plain": [
       "<_io.TextIOWrapper name='./ESPF/protein_codes_uniprot.txt' mode='r' encoding='UTF-8'>"
      ]
     },
     "execution_count": 4,
     "metadata": {},
     "output_type": "execute_result"
    }
   ],
   "source": [
    "bpe_codes_protein"
   ]
  },
  {
   "cell_type": "code",
   "execution_count": null,
   "id": "ebd9a981",
   "metadata": {},
   "outputs": [],
   "source": []
  }
 ],
 "metadata": {
  "kernelspec": {
   "display_name": "meta-rl",
   "language": "python",
   "name": "meta-rl"
  },
  "language_info": {
   "codemirror_mode": {
    "name": "ipython",
    "version": 3
   },
   "file_extension": ".py",
   "mimetype": "text/x-python",
   "name": "python",
   "nbconvert_exporter": "python",
   "pygments_lexer": "ipython3",
   "version": "3.7.6"
  }
 },
 "nbformat": 4,
 "nbformat_minor": 5
}
