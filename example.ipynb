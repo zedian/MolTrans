{
 "cells": [
  {
   "cell_type": "code",
   "execution_count": 1,
   "metadata": {},
   "outputs": [
    {
     "name": "stdout",
     "output_type": "stream",
     "text": [
      "False\n"
     ]
    }
   ],
   "source": [
    "import torch\n",
    "from torch.autograd import Variable\n",
    "import torch.nn.functional as F\n",
    "from torch.utils import data\n",
    "from torch import nn \n",
    "import copy\n",
    "\n",
    "from tqdm import tqdm\n",
    "import matplotlib.pyplot as plt\n",
    "import numpy as np\n",
    "\n",
    "import pandas as pd\n",
    "from time import time\n",
    "from sklearn.metrics import roc_auc_score, average_precision_score, f1_score, roc_curve, confusion_matrix, precision_score, recall_score, auc\n",
    "from sklearn.model_selection import KFold\n",
    "torch.manual_seed(1)    # reproducible torch:2 np:3\n",
    "np.random.seed(1)\n",
    "\n",
    "from config import BIN_config_DBPE\n",
    "from models import BIN_Interaction_Flat, BIN_Transformer_Single\n",
    "from stream import BIN_Data_Encoder, BIN_combined_encoder\n",
    "\n",
    "use_cuda = torch.cuda.is_available()\n",
    "print(use_cuda)\n",
    "device = torch.device(\"cuda:0\" if use_cuda else \"cpu\")"
   ]
  },
  {
   "cell_type": "code",
   "execution_count": 2,
   "metadata": {},
   "outputs": [
    {
     "name": "stdout",
     "output_type": "stream",
     "text": [
      "/Users/zdx_macos/.pyenv/versions/meta-rl/bin/python3\n"
     ]
    }
   ],
   "source": [
    "import sys\n",
    "print(sys.executable)"
   ]
  },
  {
   "cell_type": "code",
   "execution_count": 3,
   "metadata": {},
   "outputs": [],
   "source": [
    "def test(data_generator, model):\n",
    "    y_pred = []\n",
    "    y_label = []\n",
    "    model.eval()\n",
    "    loss_accumulate = 0.0\n",
    "    count = 0.0\n",
    "#     for i, (d, p, d_mask, p_mask, label) in enumerate(data_generator):\n",
    "# #         score = model(d.long().cuda(), p.long().cuda(), d_mask.long().cuda(), p_mask.long().cuda())\n",
    "#         score = model(d.long(), p.long(), d_mask.long(), p_mask.long())\n",
    "#         m = torch.nn.Sigmoid()\n",
    "#         logits = torch.squeeze(m(score))\n",
    "        \n",
    "#         loss_fct = torch.nn.BCELoss()            \n",
    "        \n",
    "# #         label = Variable(torch.from_numpy(np.array(label)).float()).cuda()\n",
    "#         label = Variable(torch.from_numpy(np.array(label)).float())\n",
    "\n",
    "#         loss = loss_fct(logits, label)\n",
    "        \n",
    "#         loss_accumulate += loss\n",
    "#         count += 1\n",
    "        \n",
    "#         logits = logits.detach().cpu().numpy()\n",
    "        \n",
    "#         label_ids = label.to('cpu').numpy()\n",
    "#         y_label = y_label + label_ids.flatten().tolist()\n",
    "#         y_pred = y_pred + logits.flatten().tolist()\n",
    "        \n",
    "    for i, (feature, mask, label) in enumerate(data_generator):\n",
    "#         score = model(d.long().cuda(), p.long().cuda(), d_mask.long().cuda(), p_mask.long().cuda())\n",
    "        score = model(feature.long(), mask.long())\n",
    "        m = torch.nn.Sigmoid()\n",
    "        logits = torch.squeeze(m(score))\n",
    "        \n",
    "        loss_fct = torch.nn.BCELoss()            \n",
    "        \n",
    "#         label = Variable(torch.from_numpy(np.array(label)).float()).cuda()\n",
    "        label = Variable(torch.from_numpy(np.array(label)).float())\n",
    "\n",
    "        loss = loss_fct(logits, label)\n",
    "        \n",
    "        loss_accumulate += loss\n",
    "        count += 1\n",
    "        \n",
    "        logits = logits.detach().cpu().numpy()\n",
    "        \n",
    "        label_ids = label.to('cpu').numpy()\n",
    "        y_label = y_label + label_ids.flatten().tolist()\n",
    "        y_pred = y_pred + logits.flatten().tolist()\n",
    "        \n",
    "    loss = loss_accumulate/count\n",
    "    \n",
    "    fpr, tpr, thresholds = roc_curve(y_label, y_pred)\n",
    "\n",
    "    precision = tpr / (tpr + fpr)\n",
    "\n",
    "    f1 = 2 * precision * tpr / (tpr + precision + 0.00001)\n",
    "\n",
    "    thred_optim = thresholds[5:][np.argmax(f1[5:])]\n",
    "\n",
    "    print(\"optimal threshold: \" + str(thred_optim))\n",
    "\n",
    "    y_pred_s = [1 if i else 0 for i in (y_pred >= thred_optim)]\n",
    "\n",
    "    auc_k = auc(fpr, tpr)\n",
    "    print(\"AUROC:\" + str(auc_k))\n",
    "    print(\"AUPRC: \"+ str(average_precision_score(y_label, y_pred)))\n",
    "\n",
    "    cm1 = confusion_matrix(y_label, y_pred_s)\n",
    "    print('Confusion Matrix : \\n', cm1)\n",
    "    print('Recall : ', recall_score(y_label, y_pred_s))\n",
    "    print('Precision : ', precision_score(y_label, y_pred_s))\n",
    "\n",
    "    total1=sum(sum(cm1))\n",
    "    #####from confusion matrix calculate accuracy\n",
    "    accuracy1=(cm1[0,0]+cm1[1,1])/total1\n",
    "    print ('Accuracy : ', accuracy1)\n",
    "\n",
    "    sensitivity1 = cm1[0,0]/(cm1[0,0]+cm1[0,1])\n",
    "    print('Sensitivity : ', sensitivity1 )\n",
    "\n",
    "    specificity1 = cm1[1,1]/(cm1[1,0]+cm1[1,1])\n",
    "    print('Specificity : ', specificity1)\n",
    "\n",
    "    outputs = np.asarray([1 if i else 0 for i in (np.asarray(y_pred) >= 0.5)])\n",
    "    return roc_auc_score(y_label, y_pred), average_precision_score(y_label, y_pred), f1_score(y_label, outputs), y_pred, loss.item()\n",
    "\n",
    "\n",
    "def main(fold_n, lr):\n",
    "    config = BIN_config_DBPE()\n",
    "    \n",
    "    lr = lr\n",
    "    BATCH_SIZE = config['batch_size']\n",
    "    train_epoch = 10\n",
    "    \n",
    "    loss_history = []\n",
    "    \n",
    "#     model = BIN_Interaction_Flat(**config)\n",
    "    model = BIN_Transformer_Single(**config)\n",
    "    \n",
    "    if use_cuda:\n",
    "        model = model.cuda()\n",
    "\n",
    "    if torch.cuda.device_count() > 1:\n",
    "        print(\"Let's use\", torch.cuda.device_count(), \"GPUs!\")\n",
    "        model = nn.DataParallel(model, dim = 0)\n",
    "            \n",
    "    opt = torch.optim.Adam(model.parameters(), lr = lr)\n",
    "    #opt = torch.optim.SGD(model.parameters(), lr = lr, momentum=0.9)\n",
    "    \n",
    "    print('--- Data Preparation ---')\n",
    "    \n",
    "    params = {'batch_size': BATCH_SIZE,\n",
    "              'shuffle': True,\n",
    "              'num_workers': 6, \n",
    "              'drop_last': True}\n",
    "\n",
    "    dataFolder = './dataset/BindingDB'\n",
    "    df_train = pd.read_csv(dataFolder + '/train.csv')\n",
    "    df_val = pd.read_csv(dataFolder + '/val.csv')\n",
    "    df_test = pd.read_csv(dataFolder + '/test.csv')\n",
    "    \n",
    "#     training_set = BIN_Data_Encoder(df_train.index.values, df_train.Label.values, df_train)\n",
    "#     training_generator = data.DataLoader(training_set, **params)\n",
    "\n",
    "#     validation_set = BIN_Data_Encoder(df_val.index.values, df_val.Label.values, df_val)\n",
    "#     validation_generator = data.DataLoader(validation_set, **params)\n",
    "    \n",
    "#     testing_set = BIN_Data_Encoder(df_test.index.values, df_test.Label.values, df_test)\n",
    "#     testing_generator = data.DataLoader(testing_set, **params)\n",
    "    \n",
    "    train_set = BIN_combined_encoder(df_train.index.values, df_train.Label.values, df_train)\n",
    "    train_gen = data.DataLoader(train_set, **params)\n",
    "    \n",
    "    valid_set = BIN_combined_encoder(df_val.index.values, df_val.Label.values, df_val)\n",
    "    valid_gen = data.DataLoader(valid_set, **params)\n",
    "    \n",
    "    test_set = BIN_combined_encoder(df_test.index.values, df_test.Label.values, df_test)\n",
    "    test_gen = data.DataLoader(test_set, **params)\n",
    "    # early stopping\n",
    "    max_auc = 0\n",
    "    model_max = copy.deepcopy(model)\n",
    "    \n",
    "    print('--- Go for Training ---')\n",
    "    torch.backends.cudnn.benchmark = True\n",
    "    for epo in range(train_epoch):\n",
    "        model.train()\n",
    "        print(len(train_gen))\n",
    "        for i, (feature, mask, label) in enumerate(train_gen):\n",
    "            score = model(feature.long(), mask.long())\n",
    "            label = Variable(torch.from_numpy(np.array(label)).float())\n",
    "            loss_fct = torch.nn.BCELoss()\n",
    "            m = torch.nn.Sigmoid()\n",
    "            n = torch.squeeze(m(score))\n",
    "            \n",
    "            loss = loss_fct(n, label)\n",
    "            loss_history.append(loss)\n",
    "            \n",
    "            opt.zero_grad()\n",
    "            loss.backward()\n",
    "            opt.step()\n",
    "            \n",
    "            if (i % 100 == 0):\n",
    "                print('Training at Epoch ' + str(epo + 1) + ' iteration ' + str(i) + ' with loss ' + str(loss.cpu().detach().numpy()))\n",
    "            if (i % 1000 == 0):\n",
    "                # every epoch test\n",
    "                with torch.set_grad_enabled(False):\n",
    "                    auc, auprc, f1, logits, loss = test(valid_gen, model)\n",
    "                    if auc > max_auc:\n",
    "                        model_max = copy.deepcopy(model)\n",
    "                        max_auc = auc\n",
    "            \n",
    "                print('Validation at Epoch '+ str(epo + 1) + ' , AUROC: '+ str(auc) + ' , AUPRC: ' + str(auprc) + ' , F1: '+str(f1))\n",
    "            \n",
    "#         for i, (d, p, d_mask, p_mask, label) in enumerate(training_generator):\n",
    "# #             score = model(d.long().cuda(), p.long().cuda(), d_mask.long().cuda(), p_mask.long().cuda())\n",
    "#             score = model(d.long(), p.long(), d_mask.long(), p_mask.long())\n",
    "# #             label = Variable(torch.from_numpy(np.array(label)).float()).cuda()\n",
    "#             label = Variable(torch.from_numpy(np.array(label)).float())\n",
    "#             loss_fct = torch.nn.BCELoss()\n",
    "#             m = torch.nn.Sigmoid()\n",
    "#             n = torch.squeeze(m(score))\n",
    "            \n",
    "#             loss = loss_fct(n, label)\n",
    "#             loss_history.append(loss)\n",
    "            \n",
    "#             opt.zero_grad()\n",
    "#             loss.backward()\n",
    "#             opt.step()\n",
    "            \n",
    "#             if (i % 100 == 0):\n",
    "#                 print('Training at Epoch ' + str(epo + 1) + ' iteration ' + str(i) + ' with loss ' + str(loss.cpu().detach().numpy()))\n",
    "            # every epoch test\n",
    "        with torch.set_grad_enabled(False):\n",
    "            auc, auprc, f1, logits, loss = test(valid_gen, model)\n",
    "            if auc > max_auc:\n",
    "                model_max = copy.deepcopy(model)\n",
    "                max_auc = auc\n",
    "        \n",
    "    print('--- Go for Testing ---')\n",
    "    try:\n",
    "        with torch.set_grad_enabled(False):\n",
    "            auc, auprc, f1, logits, loss = test(test_gen, model_max)\n",
    "            print('Testing AUROC: ' + str(auc) + ' , AUPRC: ' + str(auprc) + ' , F1: '+str(f1) + ' , Test loss: '+str(loss))\n",
    "    except:\n",
    "        print('testing failed')\n",
    "    return model_max, loss_history"
   ]
  },
  {
   "cell_type": "code",
   "execution_count": null,
   "metadata": {},
   "outputs": [
    {
     "name": "stdout",
     "output_type": "stream",
     "text": [
      "--- Data Preparation ---\n",
      "--- Go for Training ---\n",
      "3167\n",
      "Training at Epoch 1 iteration 0 with loss 0.61577725\n"
     ]
    },
    {
     "name": "stderr",
     "output_type": "stream",
     "text": [
      "/var/folders/g0/93h1vwd10rq00w5yx9hftvxm0000gq/T/ipykernel_74238/2916935592.py:55: RuntimeWarning: invalid value encountered in true_divide\n",
      "  precision = tpr / (tpr + fpr)\n"
     ]
    },
    {
     "name": "stdout",
     "output_type": "stream",
     "text": [
      "optimal threshold: 0.4846193492412567\n",
      "AUROC:0.4983798957631048\n",
      "AUPRC: 0.13455971626822696\n",
      "Confusion Matrix : \n",
      " [[ 110 5607]\n",
      " [   5  922]]\n",
      "Recall :  0.9946062567421791\n",
      "Precision :  0.1412161127278297\n",
      "Accuracy :  0.15532811559301626\n",
      "Sensitivity :  0.01924086059121917\n",
      "Specificity :  0.9946062567421791\n",
      "Validation at Epoch 1 , AUROC: 0.4983798957631048 , AUPRC: 0.13455971626822696 , F1: 0.06906077348066299\n",
      "Training at Epoch 1 iteration 100 with loss 0.69492555\n",
      "Training at Epoch 1 iteration 200 with loss 0.7137166\n",
      "Training at Epoch 1 iteration 300 with loss 0.67332923\n",
      "Training at Epoch 1 iteration 400 with loss 0.606265\n",
      "Training at Epoch 1 iteration 500 with loss 0.6076871\n",
      "Training at Epoch 1 iteration 600 with loss 0.54651904\n",
      "Training at Epoch 1 iteration 700 with loss 0.7958389\n",
      "Training at Epoch 1 iteration 800 with loss 0.7409822\n",
      "Training at Epoch 1 iteration 900 with loss 0.735723\n",
      "Training at Epoch 1 iteration 1000 with loss 0.7000242\n"
     ]
    },
    {
     "name": "stderr",
     "output_type": "stream",
     "text": [
      "/var/folders/g0/93h1vwd10rq00w5yx9hftvxm0000gq/T/ipykernel_74238/2916935592.py:55: RuntimeWarning: invalid value encountered in true_divide\n",
      "  precision = tpr / (tpr + fpr)\n"
     ]
    },
    {
     "name": "stdout",
     "output_type": "stream",
     "text": [
      "optimal threshold: 0.21927951276302338\n",
      "AUROC:0.8113720146900019\n",
      "AUPRC: 0.40630383336549664\n",
      "Confusion Matrix : \n",
      " [[3100 2617]\n",
      " [ 108  819]]\n",
      "Recall :  0.883495145631068\n",
      "Precision :  0.23835855646100115\n",
      "Accuracy :  0.589855508729681\n",
      "Sensitivity :  0.5422424348434494\n",
      "Specificity :  0.883495145631068\n",
      "Validation at Epoch 1 , AUROC: 0.8113720146900019 , AUPRC: 0.40630383336549664 , F1: 0.33216538192011213\n",
      "Training at Epoch 1 iteration 1100 with loss 0.3320628\n",
      "Training at Epoch 1 iteration 1200 with loss 0.497371\n",
      "Training at Epoch 1 iteration 1300 with loss 0.9707896\n",
      "Training at Epoch 1 iteration 1400 with loss 0.35332763\n",
      "Training at Epoch 1 iteration 1500 with loss 0.69269955\n",
      "Training at Epoch 1 iteration 1600 with loss 0.5850935\n",
      "Training at Epoch 1 iteration 1700 with loss 0.43192643\n",
      "Training at Epoch 1 iteration 1800 with loss 0.7938974\n",
      "Training at Epoch 1 iteration 1900 with loss 0.24118125\n",
      "Training at Epoch 1 iteration 2000 with loss 0.42056596\n"
     ]
    },
    {
     "name": "stderr",
     "output_type": "stream",
     "text": [
      "/var/folders/g0/93h1vwd10rq00w5yx9hftvxm0000gq/T/ipykernel_74238/2916935592.py:55: RuntimeWarning: invalid value encountered in true_divide\n",
      "  precision = tpr / (tpr + fpr)\n"
     ]
    },
    {
     "name": "stdout",
     "output_type": "stream",
     "text": [
      "optimal threshold: 0.3317345380783081\n",
      "AUROC:0.8399227195561073\n",
      "AUPRC: 0.4467011329092356\n",
      "Confusion Matrix : \n",
      " [[3656 2061]\n",
      " [ 114  813]]\n",
      "Recall :  0.8770226537216829\n",
      "Precision :  0.2828810020876827\n",
      "Accuracy :  0.6726369656833233\n",
      "Sensitivity :  0.639496239286339\n",
      "Specificity :  0.8770226537216829\n",
      "Validation at Epoch 1 , AUROC: 0.8399227195561073 , AUPRC: 0.4467011329092356 , F1: 0.4850976361767729\n",
      "Training at Epoch 1 iteration 2100 with loss 0.19934243\n",
      "Training at Epoch 1 iteration 2200 with loss 0.65585375\n",
      "Training at Epoch 1 iteration 2300 with loss 1.2823445\n",
      "Training at Epoch 1 iteration 2400 with loss 0.8955481\n",
      "Training at Epoch 1 iteration 2500 with loss 0.40252626\n",
      "Training at Epoch 1 iteration 2600 with loss 0.5986549\n",
      "Training at Epoch 1 iteration 2700 with loss 0.32788062\n",
      "Training at Epoch 1 iteration 2800 with loss 0.21964283\n",
      "Training at Epoch 1 iteration 2900 with loss 0.39691642\n",
      "Training at Epoch 1 iteration 3000 with loss 0.47516686\n"
     ]
    },
    {
     "name": "stderr",
     "output_type": "stream",
     "text": [
      "/var/folders/g0/93h1vwd10rq00w5yx9hftvxm0000gq/T/ipykernel_74238/2916935592.py:55: RuntimeWarning: invalid value encountered in true_divide\n",
      "  precision = tpr / (tpr + fpr)\n"
     ]
    },
    {
     "name": "stdout",
     "output_type": "stream",
     "text": [
      "optimal threshold: 0.5726822018623352\n",
      "AUROC:0.8584557044141896\n",
      "AUPRC: 0.4720614615047078\n",
      "Confusion Matrix : \n",
      " [[4007 1710]\n",
      " [ 121  806]]\n",
      "Recall :  0.8694714131607335\n",
      "Precision :  0.3203497615262321\n",
      "Accuracy :  0.7244130042143287\n",
      "Sensitivity :  0.7008920762637747\n",
      "Specificity :  0.8694714131607335\n",
      "Validation at Epoch 1 , AUROC: 0.8584557044141896 , AUPRC: 0.4720614615047078 , F1: 0.4373208235600729\n",
      "Training at Epoch 1 iteration 3100 with loss 0.29240456\n"
     ]
    },
    {
     "name": "stderr",
     "output_type": "stream",
     "text": [
      "/var/folders/g0/93h1vwd10rq00w5yx9hftvxm0000gq/T/ipykernel_74238/2916935592.py:55: RuntimeWarning: invalid value encountered in true_divide\n",
      "  precision = tpr / (tpr + fpr)\n"
     ]
    },
    {
     "name": "stdout",
     "output_type": "stream",
     "text": [
      "optimal threshold: 0.4996640682220459\n",
      "AUROC:0.8588705424254655\n",
      "AUPRC: 0.4733989777048316\n",
      "Confusion Matrix : \n",
      " [[4130 1587]\n",
      " [ 131  796]]\n",
      "Recall :  0.8586839266450917\n",
      "Precision :  0.3340327318506085\n",
      "Accuracy :  0.7414208308248044\n",
      "Sensitivity :  0.722406856743047\n",
      "Specificity :  0.8586839266450917\n",
      "3167\n",
      "Training at Epoch 2 iteration 0 with loss 0.5406074\n"
     ]
    },
    {
     "name": "stderr",
     "output_type": "stream",
     "text": [
      "/var/folders/g0/93h1vwd10rq00w5yx9hftvxm0000gq/T/ipykernel_74238/2916935592.py:55: RuntimeWarning: invalid value encountered in true_divide\n",
      "  precision = tpr / (tpr + fpr)\n"
     ]
    },
    {
     "name": "stdout",
     "output_type": "stream",
     "text": [
      "optimal threshold: 0.43817105889320374\n",
      "AUROC:0.8588199731341206\n",
      "AUPRC: 0.47234001928282277\n",
      "Confusion Matrix : \n",
      " [[4041 1676]\n",
      " [ 125  802]]\n",
      "Recall :  0.8651564185544768\n",
      "Precision :  0.32364810330912025\n",
      "Accuracy :  0.7289283564118001\n",
      "Sensitivity :  0.7068392513556061\n",
      "Specificity :  0.8651564185544768\n",
      "Validation at Epoch 2 , AUROC: 0.8588199731341206 , AUPRC: 0.47234001928282277 , F1: 0.49417098445595853\n",
      "Training at Epoch 2 iteration 100 with loss 0.44319266\n",
      "Training at Epoch 2 iteration 200 with loss 0.2846982\n",
      "Training at Epoch 2 iteration 300 with loss 0.4985318\n",
      "Training at Epoch 2 iteration 400 with loss 0.27463728\n",
      "Training at Epoch 2 iteration 500 with loss 0.802832\n",
      "Training at Epoch 2 iteration 600 with loss 0.46320063\n",
      "Training at Epoch 2 iteration 700 with loss 0.19527961\n",
      "Training at Epoch 2 iteration 800 with loss 0.45500228\n",
      "Training at Epoch 2 iteration 900 with loss 0.37262326\n",
      "Training at Epoch 2 iteration 1000 with loss 0.8798284\n"
     ]
    },
    {
     "name": "stderr",
     "output_type": "stream",
     "text": [
      "/var/folders/g0/93h1vwd10rq00w5yx9hftvxm0000gq/T/ipykernel_74238/2916935592.py:55: RuntimeWarning: invalid value encountered in true_divide\n",
      "  precision = tpr / (tpr + fpr)\n"
     ]
    },
    {
     "name": "stdout",
     "output_type": "stream",
     "text": [
      "optimal threshold: 0.42454206943511963\n",
      "AUROC:0.8642106973297716\n",
      "AUPRC: 0.48650331455527596\n",
      "Confusion Matrix : \n",
      " [[4069 1648]\n",
      " [ 119  808]]\n",
      "Recall :  0.8716289104638619\n",
      "Precision :  0.3289902280130293\n",
      "Accuracy :  0.7340457555689344\n",
      "Sensitivity :  0.7117369249606437\n",
      "Specificity :  0.8716289104638619\n",
      "Validation at Epoch 2 , AUROC: 0.8642106973297716 , AUPRC: 0.48650331455527596 , F1: 0.4987046632124352\n",
      "Training at Epoch 2 iteration 1100 with loss 0.95102763\n",
      "Training at Epoch 2 iteration 1200 with loss 0.38340774\n",
      "Training at Epoch 2 iteration 1300 with loss 0.17756128\n",
      "Training at Epoch 2 iteration 1400 with loss 0.52574444\n",
      "Training at Epoch 2 iteration 1500 with loss 0.49427295\n",
      "Training at Epoch 2 iteration 1600 with loss 0.5835446\n",
      "Training at Epoch 2 iteration 1700 with loss 0.3931974\n",
      "Training at Epoch 2 iteration 1800 with loss 0.5070167\n",
      "Training at Epoch 2 iteration 1900 with loss 0.16478011\n",
      "Training at Epoch 2 iteration 2000 with loss 0.4687624\n"
     ]
    },
    {
     "name": "stderr",
     "output_type": "stream",
     "text": [
      "/var/folders/g0/93h1vwd10rq00w5yx9hftvxm0000gq/T/ipykernel_74238/2916935592.py:55: RuntimeWarning: invalid value encountered in true_divide\n",
      "  precision = tpr / (tpr + fpr)\n"
     ]
    },
    {
     "name": "stdout",
     "output_type": "stream",
     "text": [
      "optimal threshold: 0.36018383502960205\n",
      "AUROC:0.8686909855898275\n",
      "AUPRC: 0.491732100548838\n",
      "Confusion Matrix : \n",
      " [[3905 1812]\n",
      " [  94  833]]\n",
      "Recall :  0.8985976267529665\n",
      "Precision :  0.3149338374291115\n",
      "Accuracy :  0.7131246237206502\n",
      "Sensitivity :  0.6830505509882806\n",
      "Specificity :  0.8985976267529665\n",
      "Validation at Epoch 2 , AUROC: 0.8686909855898275 , AUPRC: 0.491732100548838 , F1: 0.5080321285140562\n",
      "Training at Epoch 2 iteration 2100 with loss 0.25949788\n",
      "Training at Epoch 2 iteration 2200 with loss 0.16244513\n",
      "Training at Epoch 2 iteration 2300 with loss 0.5551017\n",
      "Training at Epoch 2 iteration 2400 with loss 0.52883434\n",
      "Training at Epoch 2 iteration 2500 with loss 0.7644173\n",
      "Training at Epoch 2 iteration 2600 with loss 0.866174\n",
      "Training at Epoch 2 iteration 2700 with loss 0.08938089\n",
      "Training at Epoch 2 iteration 2800 with loss 0.35048765\n",
      "Training at Epoch 2 iteration 2900 with loss 0.96930885\n",
      "Training at Epoch 2 iteration 3000 with loss 0.3660919\n"
     ]
    },
    {
     "name": "stderr",
     "output_type": "stream",
     "text": [
      "/var/folders/g0/93h1vwd10rq00w5yx9hftvxm0000gq/T/ipykernel_74238/2916935592.py:55: RuntimeWarning: invalid value encountered in true_divide\n",
      "  precision = tpr / (tpr + fpr)\n"
     ]
    },
    {
     "name": "stdout",
     "output_type": "stream",
     "text": [
      "optimal threshold: 0.27352046966552734\n",
      "AUROC:0.8676690330453336\n",
      "AUPRC: 0.4934242986869045\n",
      "Confusion Matrix : \n",
      " [[4052 1665]\n",
      " [ 104  823]]\n",
      "Recall :  0.8878101402373247\n",
      "Precision :  0.3307877813504823\n",
      "Accuracy :  0.733744732089103\n",
      "Sensitivity :  0.708763337414728\n",
      "Specificity :  0.8878101402373247\n",
      "Validation at Epoch 2 , AUROC: 0.8676690330453336 , AUPRC: 0.4934242986869045 , F1: 0.5263940520446097\n",
      "Training at Epoch 2 iteration 3100 with loss 0.19492024\n"
     ]
    },
    {
     "name": "stderr",
     "output_type": "stream",
     "text": [
      "/var/folders/g0/93h1vwd10rq00w5yx9hftvxm0000gq/T/ipykernel_74238/2916935592.py:55: RuntimeWarning: invalid value encountered in true_divide\n",
      "  precision = tpr / (tpr + fpr)\n"
     ]
    },
    {
     "name": "stdout",
     "output_type": "stream",
     "text": [
      "optimal threshold: 0.47487708926200867\n",
      "AUROC:0.8687277804100226\n",
      "AUPRC: 0.4968558959667218\n",
      "Confusion Matrix : \n",
      " [[4048 1669]\n",
      " [ 102  825]]\n",
      "Recall :  0.889967637540453\n",
      "Precision :  0.33079390537289494\n",
      "Accuracy :  0.7334437086092715\n",
      "Sensitivity :  0.7080636697568655\n",
      "Specificity :  0.889967637540453\n",
      "3167\n",
      "Training at Epoch 3 iteration 0 with loss 0.6430591\n"
     ]
    },
    {
     "name": "stderr",
     "output_type": "stream",
     "text": [
      "/var/folders/g0/93h1vwd10rq00w5yx9hftvxm0000gq/T/ipykernel_74238/2916935592.py:55: RuntimeWarning: invalid value encountered in true_divide\n",
      "  precision = tpr / (tpr + fpr)\n"
     ]
    },
    {
     "name": "stdout",
     "output_type": "stream",
     "text": [
      "optimal threshold: 0.518994927406311\n",
      "AUROC:0.8676809206026275\n",
      "AUPRC: 0.4961984321636985\n",
      "Confusion Matrix : \n",
      " [[4044 1673]\n",
      " [ 106  821]]\n",
      "Recall :  0.8856526429341963\n",
      "Precision :  0.32919005613472335\n",
      "Accuracy :  0.7322396146899458\n",
      "Sensitivity :  0.707364002099003\n",
      "Specificity :  0.8856526429341963\n",
      "Validation at Epoch 3 , AUROC: 0.8676809206026275 , AUPRC: 0.4961984321636985 , F1: 0.46992054483541434\n",
      "Training at Epoch 3 iteration 100 with loss 0.53027356\n",
      "Training at Epoch 3 iteration 200 with loss 0.38584924\n",
      "Training at Epoch 3 iteration 300 with loss 0.20619969\n",
      "Training at Epoch 3 iteration 400 with loss 0.22243239\n",
      "Training at Epoch 3 iteration 500 with loss 0.31105506\n",
      "Training at Epoch 3 iteration 600 with loss 0.15269217\n",
      "Training at Epoch 3 iteration 700 with loss 0.2923265\n",
      "Training at Epoch 3 iteration 800 with loss 0.21346644\n",
      "Training at Epoch 3 iteration 900 with loss 0.21843973\n",
      "Training at Epoch 3 iteration 1000 with loss 0.54255563\n"
     ]
    },
    {
     "name": "stderr",
     "output_type": "stream",
     "text": [
      "/var/folders/g0/93h1vwd10rq00w5yx9hftvxm0000gq/T/ipykernel_74238/2916935592.py:55: RuntimeWarning: invalid value encountered in true_divide\n",
      "  precision = tpr / (tpr + fpr)\n"
     ]
    },
    {
     "name": "stdout",
     "output_type": "stream",
     "text": [
      "optimal threshold: 0.3297687768936157\n",
      "AUROC:0.8690642171505751\n",
      "AUPRC: 0.49265638884292157\n",
      "Confusion Matrix : \n",
      " [[4092 1625]\n",
      " [ 107  820]]\n",
      "Recall :  0.8845738942826321\n",
      "Precision :  0.33537832310838445\n",
      "Accuracy :  0.7393136664659844\n",
      "Sensitivity :  0.7157600139933532\n",
      "Specificity :  0.8845738942826321\n",
      "Validation at Epoch 3 , AUROC: 0.8690642171505751 , AUPRC: 0.49265638884292157 , F1: 0.5201129146083274\n",
      "Training at Epoch 3 iteration 1100 with loss 0.36407232\n",
      "Training at Epoch 3 iteration 1200 with loss 0.69899493\n",
      "Training at Epoch 3 iteration 1300 with loss 0.45425254\n",
      "Training at Epoch 3 iteration 1400 with loss 0.14813574\n",
      "Training at Epoch 3 iteration 1500 with loss 0.39443246\n",
      "Training at Epoch 3 iteration 1600 with loss 0.2902448\n",
      "Training at Epoch 3 iteration 1700 with loss 0.12585858\n",
      "Training at Epoch 3 iteration 1800 with loss 0.1421633\n",
      "Training at Epoch 3 iteration 1900 with loss 0.24421185\n",
      "Training at Epoch 3 iteration 2000 with loss 1.317399\n"
     ]
    },
    {
     "name": "stderr",
     "output_type": "stream",
     "text": [
      "/var/folders/g0/93h1vwd10rq00w5yx9hftvxm0000gq/T/ipykernel_74238/2916935592.py:55: RuntimeWarning: invalid value encountered in true_divide\n",
      "  precision = tpr / (tpr + fpr)\n"
     ]
    },
    {
     "name": "stdout",
     "output_type": "stream",
     "text": [
      "optimal threshold: 0.3346344828605652\n",
      "AUROC:0.8700582433699978\n",
      "AUPRC: 0.5064592862751999\n",
      "Confusion Matrix : \n",
      " [[4004 1713]\n",
      " [  93  834]]\n",
      "Recall :  0.8996763754045307\n",
      "Precision :  0.32744405182567726\n",
      "Accuracy :  0.7281757977122215\n",
      "Sensitivity :  0.7003673255203778\n",
      "Specificity :  0.8996763754045307\n",
      "Validation at Epoch 3 , AUROC: 0.8700582433699978 , AUPRC: 0.5064592862751999 , F1: 0.5232308791994282\n",
      "Training at Epoch 3 iteration 2100 with loss 0.28367004\n",
      "Training at Epoch 3 iteration 2200 with loss 0.3160927\n",
      "Training at Epoch 3 iteration 2300 with loss 0.6100583\n",
      "Training at Epoch 3 iteration 2400 with loss 0.5121267\n",
      "Training at Epoch 3 iteration 2500 with loss 0.8503914\n",
      "Training at Epoch 3 iteration 2600 with loss 0.27623165\n",
      "Training at Epoch 3 iteration 2700 with loss 0.39404356\n",
      "Training at Epoch 3 iteration 2800 with loss 0.35859782\n",
      "Training at Epoch 3 iteration 2900 with loss 0.7085028\n",
      "Training at Epoch 3 iteration 3000 with loss 0.3573506\n"
     ]
    },
    {
     "name": "stderr",
     "output_type": "stream",
     "text": [
      "/var/folders/g0/93h1vwd10rq00w5yx9hftvxm0000gq/T/ipykernel_74238/2916935592.py:55: RuntimeWarning: invalid value encountered in true_divide\n",
      "  precision = tpr / (tpr + fpr)\n"
     ]
    },
    {
     "name": "stdout",
     "output_type": "stream",
     "text": [
      "optimal threshold: 0.35699698328971863\n",
      "AUROC:0.8743504063185952\n",
      "AUPRC: 0.5156011951686714\n",
      "Confusion Matrix : \n",
      " [[3587 2130]\n",
      " [  55  872]]\n",
      "Recall :  0.9406688241639698\n",
      "Precision :  0.290473017988008\n",
      "Accuracy :  0.6711318482841662\n",
      "Sensitivity :  0.6274269721882106\n",
      "Specificity :  0.9406688241639698\n",
      "Validation at Epoch 3 , AUROC: 0.8743504063185952 , AUPRC: 0.5156011951686714 , F1: 0.48714069591528\n",
      "Training at Epoch 3 iteration 3100 with loss 0.6029926\n",
      "optimal threshold: 0.4508635103702545\n",
      "AUROC:0.872596331197913\n",
      "AUPRC: 0.5131072117735732\n",
      "Confusion Matrix : \n",
      " [[4132 1585]\n",
      " [ 112  815]]\n",
      "Recall :  0.8791801510248112\n",
      "Precision :  0.33958333333333335\n",
      "Accuracy :  0.7445815773630343\n",
      "Sensitivity :  0.7227566905719783\n",
      "Specificity :  0.8791801510248112\n",
      "3167\n"
     ]
    },
    {
     "name": "stderr",
     "output_type": "stream",
     "text": [
      "/var/folders/g0/93h1vwd10rq00w5yx9hftvxm0000gq/T/ipykernel_74238/2916935592.py:55: RuntimeWarning: invalid value encountered in true_divide\n",
      "  precision = tpr / (tpr + fpr)\n"
     ]
    },
    {
     "name": "stdout",
     "output_type": "stream",
     "text": [
      "Training at Epoch 4 iteration 0 with loss 0.5726141\n"
     ]
    },
    {
     "name": "stderr",
     "output_type": "stream",
     "text": [
      "/var/folders/g0/93h1vwd10rq00w5yx9hftvxm0000gq/T/ipykernel_74238/2916935592.py:55: RuntimeWarning: invalid value encountered in true_divide\n",
      "  precision = tpr / (tpr + fpr)\n"
     ]
    },
    {
     "name": "stdout",
     "output_type": "stream",
     "text": [
      "optimal threshold: 0.45463812351226807\n",
      "AUROC:0.8730231511121754\n",
      "AUPRC: 0.514534706551943\n",
      "Confusion Matrix : \n",
      " [[4165 1552]\n",
      " [ 115  812]]\n",
      "Recall :  0.8759439050701187\n",
      "Precision :  0.34348561759729274\n",
      "Accuracy :  0.7490969295605057\n",
      "Sensitivity :  0.728528948749344\n",
      "Specificity :  0.8759439050701187\n",
      "Validation at Epoch 4 , AUROC: 0.8730231511121754 , AUPRC: 0.514534706551943 , F1: 0.5111480865224626\n",
      "Training at Epoch 4 iteration 100 with loss 0.9380932\n",
      "Training at Epoch 4 iteration 200 with loss 0.50664675\n",
      "Training at Epoch 4 iteration 300 with loss 0.25501102\n",
      "Training at Epoch 4 iteration 400 with loss 0.23696336\n",
      "Training at Epoch 4 iteration 500 with loss 0.62910193\n",
      "Training at Epoch 4 iteration 600 with loss 0.40599987\n",
      "Training at Epoch 4 iteration 700 with loss 0.8589818\n",
      "Training at Epoch 4 iteration 800 with loss 0.15249366\n",
      "Training at Epoch 4 iteration 900 with loss 0.45786887\n",
      "Training at Epoch 4 iteration 1000 with loss 0.6256413\n"
     ]
    },
    {
     "name": "stderr",
     "output_type": "stream",
     "text": [
      "/var/folders/g0/93h1vwd10rq00w5yx9hftvxm0000gq/T/ipykernel_74238/2916935592.py:55: RuntimeWarning: invalid value encountered in true_divide\n",
      "  precision = tpr / (tpr + fpr)\n"
     ]
    },
    {
     "name": "stdout",
     "output_type": "stream",
     "text": [
      "optimal threshold: 0.5452971458435059\n",
      "AUROC:0.8713939896887706\n",
      "AUPRC: 0.5074862687001727\n",
      "Confusion Matrix : \n",
      " [[4243 1474]\n",
      " [ 122  805]]\n",
      "Recall :  0.8683926645091694\n",
      "Precision :  0.35322509872751207\n",
      "Accuracy :  0.7597832630945214\n",
      "Sensitivity :  0.7421724680776631\n",
      "Specificity :  0.8683926645091694\n",
      "Validation at Epoch 4 , AUROC: 0.8713939896887706 , AUPRC: 0.5074862687001727 , F1: 0.4842543077837195\n",
      "Training at Epoch 4 iteration 1100 with loss 0.4358356\n",
      "Training at Epoch 4 iteration 1200 with loss 0.18841448\n",
      "Training at Epoch 4 iteration 1300 with loss 0.55863225\n",
      "Training at Epoch 4 iteration 1400 with loss 0.27078298\n",
      "Training at Epoch 4 iteration 1500 with loss 0.4914625\n",
      "Training at Epoch 4 iteration 1600 with loss 0.27992606\n",
      "Training at Epoch 4 iteration 1700 with loss 0.45280135\n",
      "Training at Epoch 4 iteration 1800 with loss 0.28927088\n",
      "Training at Epoch 4 iteration 1900 with loss 0.08814472\n",
      "Training at Epoch 4 iteration 2000 with loss 0.19959417\n"
     ]
    },
    {
     "name": "stderr",
     "output_type": "stream",
     "text": [
      "/var/folders/g0/93h1vwd10rq00w5yx9hftvxm0000gq/T/ipykernel_74238/2916935592.py:55: RuntimeWarning: invalid value encountered in true_divide\n",
      "  precision = tpr / (tpr + fpr)\n"
     ]
    },
    {
     "name": "stdout",
     "output_type": "stream",
     "text": [
      "optimal threshold: 0.32143062353134155\n",
      "AUROC:0.8750702639547184\n",
      "AUPRC: 0.514047658958491\n",
      "Confusion Matrix : \n",
      " [[3992 1725]\n",
      " [  89  838]]\n",
      "Recall :  0.9039913700107874\n",
      "Precision :  0.3269605930550137\n",
      "Accuracy :  0.7269717037928959\n",
      "Sensitivity :  0.6982683225467903\n",
      "Specificity :  0.9039913700107874\n",
      "Validation at Epoch 4 , AUROC: 0.8750702639547184 , AUPRC: 0.514047658958491 , F1: 0.5186206896551725\n",
      "Training at Epoch 4 iteration 2100 with loss 0.11176818\n",
      "Training at Epoch 4 iteration 2200 with loss 0.25227857\n",
      "Training at Epoch 4 iteration 2300 with loss 0.24332327\n",
      "Training at Epoch 4 iteration 2400 with loss 0.7401309\n",
      "Training at Epoch 4 iteration 2500 with loss 0.08320383\n",
      "Training at Epoch 4 iteration 2600 with loss 0.19413322\n",
      "Training at Epoch 4 iteration 2700 with loss 0.7347281\n",
      "Training at Epoch 4 iteration 2800 with loss 0.67531663\n",
      "Training at Epoch 4 iteration 2900 with loss 0.75467783\n",
      "Training at Epoch 4 iteration 3000 with loss 0.67413193\n"
     ]
    },
    {
     "name": "stderr",
     "output_type": "stream",
     "text": [
      "/var/folders/g0/93h1vwd10rq00w5yx9hftvxm0000gq/T/ipykernel_74238/2916935592.py:55: RuntimeWarning: invalid value encountered in true_divide\n",
      "  precision = tpr / (tpr + fpr)\n"
     ]
    },
    {
     "name": "stdout",
     "output_type": "stream",
     "text": [
      "optimal threshold: 0.3288610279560089\n",
      "AUROC:0.8767998091952709\n",
      "AUPRC: 0.4988578575171326\n",
      "Confusion Matrix : \n",
      " [[4093 1624]\n",
      " [  97  830]]\n",
      "Recall :  0.895361380798274\n",
      "Precision :  0.3382233088834556\n",
      "Accuracy :  0.7409692956050572\n",
      "Sensitivity :  0.7159349309078188\n",
      "Specificity :  0.895361380798274\n",
      "Validation at Epoch 4 , AUROC: 0.8767998091952709 , AUPRC: 0.4988578575171326 , F1: 0.529889298892989\n",
      "Training at Epoch 4 iteration 3100 with loss 0.20807824\n"
     ]
    },
    {
     "name": "stderr",
     "output_type": "stream",
     "text": [
      "/var/folders/g0/93h1vwd10rq00w5yx9hftvxm0000gq/T/ipykernel_74238/2916935592.py:55: RuntimeWarning: invalid value encountered in true_divide\n",
      "  precision = tpr / (tpr + fpr)\n"
     ]
    },
    {
     "name": "stdout",
     "output_type": "stream",
     "text": [
      "optimal threshold: 0.4555772542953491\n",
      "AUROC:0.8785384116223327\n",
      "AUPRC: 0.5153392637578263\n",
      "Confusion Matrix : \n",
      " [[4170 1547]\n",
      " [ 112  815]]\n",
      "Recall :  0.8791801510248112\n",
      "Precision :  0.34504657070279426\n",
      "Accuracy :  0.7503010234798314\n",
      "Sensitivity :  0.7294035333216722\n",
      "Specificity :  0.8791801510248112\n",
      "3167\n",
      "Training at Epoch 5 iteration 0 with loss 0.74280906\n"
     ]
    },
    {
     "name": "stderr",
     "output_type": "stream",
     "text": [
      "/var/folders/g0/93h1vwd10rq00w5yx9hftvxm0000gq/T/ipykernel_74238/2916935592.py:55: RuntimeWarning: invalid value encountered in true_divide\n",
      "  precision = tpr / (tpr + fpr)\n"
     ]
    },
    {
     "name": "stdout",
     "output_type": "stream",
     "text": [
      "optimal threshold: 0.4804984927177429\n",
      "AUROC:0.8787537084933201\n",
      "AUPRC: 0.5153346193157738\n",
      "Confusion Matrix : \n",
      " [[4216 1501]\n",
      " [ 116  811]]\n",
      "Recall :  0.8748651564185544\n",
      "Precision :  0.3507785467128028\n",
      "Accuracy :  0.7566225165562914\n",
      "Sensitivity :  0.7374497113870911\n",
      "Specificity :  0.8748651564185544\n",
      "Validation at Epoch 5 , AUROC: 0.8787537084933201 , AUPRC: 0.5153346193157738 , F1: 0.5036061461273127\n",
      "Training at Epoch 5 iteration 100 with loss 0.29731187\n",
      "Training at Epoch 5 iteration 200 with loss 0.2557396\n",
      "Training at Epoch 5 iteration 300 with loss 0.32559615\n",
      "Training at Epoch 5 iteration 400 with loss 0.37961954\n",
      "Training at Epoch 5 iteration 500 with loss 0.6437191\n",
      "Training at Epoch 5 iteration 600 with loss 0.60949945\n",
      "Training at Epoch 5 iteration 700 with loss 0.5424442\n",
      "Training at Epoch 5 iteration 800 with loss 0.26197898\n",
      "Training at Epoch 5 iteration 900 with loss 0.4417314\n",
      "Training at Epoch 5 iteration 1000 with loss 0.18043064\n"
     ]
    },
    {
     "name": "stderr",
     "output_type": "stream",
     "text": [
      "/var/folders/g0/93h1vwd10rq00w5yx9hftvxm0000gq/T/ipykernel_74238/2916935592.py:55: RuntimeWarning: invalid value encountered in true_divide\n",
      "  precision = tpr / (tpr + fpr)\n"
     ]
    },
    {
     "name": "stdout",
     "output_type": "stream",
     "text": [
      "optimal threshold: 0.42705538868904114\n",
      "AUROC:0.8747979822852754\n",
      "AUPRC: 0.5052901430447462\n",
      "Confusion Matrix : \n",
      " [[4071 1646]\n",
      " [ 103  824]]\n",
      "Recall :  0.8888888888888888\n",
      "Precision :  0.33360323886639676\n",
      "Accuracy :  0.7367549668874173\n",
      "Sensitivity :  0.712086758789575\n",
      "Specificity :  0.8888888888888888\n",
      "Validation at Epoch 5 , AUROC: 0.8747979822852754 , AUPRC: 0.5052901430447462 , F1: 0.4977945809703844\n",
      "Training at Epoch 5 iteration 1100 with loss 0.44116685\n",
      "Training at Epoch 5 iteration 1200 with loss 0.61942273\n",
      "Training at Epoch 5 iteration 1300 with loss 0.60887796\n",
      "Training at Epoch 5 iteration 1400 with loss 0.24517645\n",
      "Training at Epoch 5 iteration 1500 with loss 0.14967307\n",
      "Training at Epoch 5 iteration 1600 with loss 1.0075098\n",
      "Training at Epoch 5 iteration 1700 with loss 0.12782757\n",
      "Training at Epoch 5 iteration 1800 with loss 1.2360415\n",
      "Training at Epoch 5 iteration 1900 with loss 0.809906\n",
      "Training at Epoch 5 iteration 2000 with loss 0.27326286\n"
     ]
    },
    {
     "name": "stderr",
     "output_type": "stream",
     "text": [
      "/var/folders/g0/93h1vwd10rq00w5yx9hftvxm0000gq/T/ipykernel_74238/2916935592.py:55: RuntimeWarning: invalid value encountered in true_divide\n",
      "  precision = tpr / (tpr + fpr)\n"
     ]
    },
    {
     "name": "stdout",
     "output_type": "stream",
     "text": [
      "optimal threshold: 0.40213173627853394\n",
      "AUROC:0.8780080001373674\n",
      "AUPRC: 0.5197874189979754\n",
      "Confusion Matrix : \n",
      " [[3986 1731]\n",
      " [  89  838]]\n",
      "Recall :  0.9039913700107874\n",
      "Precision :  0.32619696379914365\n",
      "Accuracy :  0.7260686333534015\n",
      "Sensitivity :  0.6972188210599966\n",
      "Specificity :  0.9039913700107874\n",
      "Validation at Epoch 5 , AUROC: 0.8780080001373674 , AUPRC: 0.5197874189979754 , F1: 0.5081495685522531\n",
      "Training at Epoch 5 iteration 2100 with loss 0.18143326\n",
      "Training at Epoch 5 iteration 2200 with loss 0.47404596\n",
      "Training at Epoch 5 iteration 2300 with loss 0.6512688\n",
      "Training at Epoch 5 iteration 2400 with loss 0.46703595\n",
      "Training at Epoch 5 iteration 2500 with loss 0.38641798\n",
      "Training at Epoch 5 iteration 2600 with loss 0.37323907\n",
      "Training at Epoch 5 iteration 2700 with loss 0.34269845\n",
      "Training at Epoch 5 iteration 2800 with loss 0.12169886\n",
      "Training at Epoch 5 iteration 2900 with loss 0.22300425\n",
      "Training at Epoch 5 iteration 3000 with loss 0.6153275\n"
     ]
    },
    {
     "name": "stderr",
     "output_type": "stream",
     "text": [
      "/var/folders/g0/93h1vwd10rq00w5yx9hftvxm0000gq/T/ipykernel_74238/2916935592.py:55: RuntimeWarning: invalid value encountered in true_divide\n",
      "  precision = tpr / (tpr + fpr)\n"
     ]
    },
    {
     "name": "stdout",
     "output_type": "stream",
     "text": [
      "optimal threshold: 0.3984602987766266\n",
      "AUROC:0.878924474197302\n",
      "AUPRC: 0.5311418998115128\n",
      "Confusion Matrix : \n",
      " [[4158 1559]\n",
      " [ 106  821]]\n",
      "Recall :  0.8856526429341963\n",
      "Precision :  0.3449579831932773\n",
      "Accuracy :  0.7493979530403372\n",
      "Sensitivity :  0.7273045303480846\n",
      "Specificity :  0.8856526429341963\n",
      "Validation at Epoch 5 , AUROC: 0.878924474197302 , AUPRC: 0.5311418998115128 , F1: 0.5209176788124157\n",
      "Training at Epoch 5 iteration 3100 with loss 0.44426954\n"
     ]
    },
    {
     "name": "stderr",
     "output_type": "stream",
     "text": [
      "/var/folders/g0/93h1vwd10rq00w5yx9hftvxm0000gq/T/ipykernel_74238/2916935592.py:55: RuntimeWarning: invalid value encountered in true_divide\n",
      "  precision = tpr / (tpr + fpr)\n"
     ]
    },
    {
     "name": "stdout",
     "output_type": "stream",
     "text": [
      "optimal threshold: 0.5869678854942322\n",
      "AUROC:0.8791899629768634\n",
      "AUPRC: 0.5277006620650021\n",
      "Confusion Matrix : \n",
      " [[4176 1541]\n",
      " [ 112  815]]\n",
      "Recall :  0.8791801510248112\n",
      "Precision :  0.34592529711375214\n",
      "Accuracy :  0.7512040939193257\n",
      "Sensitivity :  0.730453034808466\n",
      "Specificity :  0.8791801510248112\n",
      "3167\n",
      "Training at Epoch 6 iteration 0 with loss 0.5905967\n"
     ]
    },
    {
     "name": "stderr",
     "output_type": "stream",
     "text": [
      "/var/folders/g0/93h1vwd10rq00w5yx9hftvxm0000gq/T/ipykernel_74238/2916935592.py:55: RuntimeWarning: invalid value encountered in true_divide\n",
      "  precision = tpr / (tpr + fpr)\n"
     ]
    },
    {
     "name": "stdout",
     "output_type": "stream",
     "text": [
      "optimal threshold: 0.4684278666973114\n",
      "AUROC:0.8806342068423647\n",
      "AUPRC: 0.5279369481575501\n",
      "Confusion Matrix : \n",
      " [[4051 1666]\n",
      " [  98  829]]\n",
      "Recall :  0.8942826321467098\n",
      "Precision :  0.3322645290581162\n",
      "Accuracy :  0.7344972907886815\n",
      "Sensitivity :  0.7085884205002624\n",
      "Specificity :  0.8942826321467098\n",
      "Validation at Epoch 6 , AUROC: 0.8806342068423647 , AUPRC: 0.5279369481575501 , F1: 0.4923076923076923\n",
      "Training at Epoch 6 iteration 100 with loss 0.37067845\n",
      "Training at Epoch 6 iteration 200 with loss 0.14700752\n",
      "Training at Epoch 6 iteration 300 with loss 0.3302036\n",
      "Training at Epoch 6 iteration 400 with loss 0.1884324\n",
      "Training at Epoch 6 iteration 500 with loss 0.70143217\n",
      "Training at Epoch 6 iteration 600 with loss 0.42875558\n",
      "Training at Epoch 6 iteration 700 with loss 0.13495888\n",
      "Training at Epoch 6 iteration 800 with loss 0.12944032\n",
      "Training at Epoch 6 iteration 900 with loss 0.4136523\n",
      "Training at Epoch 6 iteration 1000 with loss 0.6433211\n"
     ]
    },
    {
     "name": "stderr",
     "output_type": "stream",
     "text": [
      "/var/folders/g0/93h1vwd10rq00w5yx9hftvxm0000gq/T/ipykernel_74238/2916935592.py:55: RuntimeWarning: invalid value encountered in true_divide\n",
      "  precision = tpr / (tpr + fpr)\n"
     ]
    },
    {
     "name": "stdout",
     "output_type": "stream",
     "text": [
      "optimal threshold: 0.46199095249176025\n",
      "AUROC:0.8804098527848678\n",
      "AUPRC: 0.5253315584233873\n",
      "Confusion Matrix : \n",
      " [[4146 1571]\n",
      " [ 106  821]]\n",
      "Recall :  0.8856526429341963\n",
      "Precision :  0.3432274247491639\n",
      "Accuracy :  0.7475918121613486\n",
      "Sensitivity :  0.7252055273744971\n",
      "Specificity :  0.8856526429341963\n",
      "Validation at Epoch 6 , AUROC: 0.8804098527848678 , AUPRC: 0.5253315584233873 , F1: 0.5061301477522792\n",
      "Training at Epoch 6 iteration 1100 with loss 0.55111456\n",
      "Training at Epoch 6 iteration 1200 with loss 0.87118477\n",
      "Training at Epoch 6 iteration 1300 with loss 0.59121567\n",
      "Training at Epoch 6 iteration 1400 with loss 0.35409078\n",
      "Training at Epoch 6 iteration 1500 with loss 0.43342987\n",
      "Training at Epoch 6 iteration 1600 with loss 0.57846844\n",
      "Training at Epoch 6 iteration 1700 with loss 0.9027875\n",
      "Training at Epoch 6 iteration 1800 with loss 0.41834843\n",
      "Training at Epoch 6 iteration 1900 with loss 0.52590233\n",
      "Training at Epoch 6 iteration 2000 with loss 0.19708519\n"
     ]
    },
    {
     "name": "stderr",
     "output_type": "stream",
     "text": [
      "/var/folders/g0/93h1vwd10rq00w5yx9hftvxm0000gq/T/ipykernel_74238/2916935592.py:55: RuntimeWarning: invalid value encountered in true_divide\n",
      "  precision = tpr / (tpr + fpr)\n"
     ]
    },
    {
     "name": "stdout",
     "output_type": "stream",
     "text": [
      "optimal threshold: 0.43920204043388367\n",
      "AUROC:0.8793129897602846\n",
      "AUPRC: 0.5333951982885149\n",
      "Confusion Matrix : \n",
      " [[4213 1504]\n",
      " [ 116  811]]\n",
      "Recall :  0.8748651564185544\n",
      "Precision :  0.35032397408207344\n",
      "Accuracy :  0.7561709813365443\n",
      "Sensitivity :  0.7369249606436943\n",
      "Specificity :  0.8748651564185544\n",
      "Validation at Epoch 6 , AUROC: 0.8793129897602846 , AUPRC: 0.5333951982885149 , F1: 0.515032679738562\n",
      "Training at Epoch 6 iteration 2100 with loss 0.19356833\n",
      "Training at Epoch 6 iteration 2200 with loss 0.20691343\n",
      "Training at Epoch 6 iteration 2300 with loss 0.098263144\n",
      "Training at Epoch 6 iteration 2400 with loss 0.14012179\n",
      "Training at Epoch 6 iteration 2500 with loss 0.70674783\n",
      "Training at Epoch 6 iteration 2600 with loss 0.20204628\n",
      "Training at Epoch 6 iteration 2700 with loss 0.34325114\n",
      "Training at Epoch 6 iteration 2800 with loss 0.20856737\n",
      "Training at Epoch 6 iteration 2900 with loss 0.4556668\n",
      "Training at Epoch 6 iteration 3000 with loss 0.23133174\n"
     ]
    },
    {
     "name": "stderr",
     "output_type": "stream",
     "text": [
      "/var/folders/g0/93h1vwd10rq00w5yx9hftvxm0000gq/T/ipykernel_74238/2916935592.py:55: RuntimeWarning: invalid value encountered in true_divide\n",
      "  precision = tpr / (tpr + fpr)\n"
     ]
    },
    {
     "name": "stdout",
     "output_type": "stream",
     "text": [
      "optimal threshold: 0.46521618962287903\n",
      "AUROC:0.8817976779260703\n",
      "AUPRC: 0.5385472983112274\n",
      "Confusion Matrix : \n",
      " [[4089 1628]\n",
      " [ 101  826]]\n",
      "Recall :  0.8910463861920173\n",
      "Precision :  0.33659331703341483\n",
      "Accuracy :  0.7397652016857315\n",
      "Sensitivity :  0.7152352632499562\n",
      "Specificity :  0.8910463861920173\n",
      "Validation at Epoch 6 , AUROC: 0.8817976779260703 , AUPRC: 0.5385472983112274 , F1: 0.4946630070143336\n",
      "Training at Epoch 6 iteration 3100 with loss 0.6039671\n",
      "optimal threshold: 0.4373539388179779\n",
      "AUROC:0.8809401699241404\n",
      "AUPRC: 0.5375813481698636\n",
      "Confusion Matrix : \n",
      " [[4234 1483]\n",
      " [ 116  811]]\n",
      "Recall :  0.8748651564185544\n",
      "Precision :  0.35353095030514387\n",
      "Accuracy :  0.7593317278747742\n",
      "Sensitivity :  0.7405982158474724\n",
      "Specificity :  0.8748651564185544\n",
      "3167\n"
     ]
    },
    {
     "name": "stderr",
     "output_type": "stream",
     "text": [
      "/var/folders/g0/93h1vwd10rq00w5yx9hftvxm0000gq/T/ipykernel_74238/2916935592.py:55: RuntimeWarning: invalid value encountered in true_divide\n",
      "  precision = tpr / (tpr + fpr)\n"
     ]
    },
    {
     "name": "stdout",
     "output_type": "stream",
     "text": [
      "Training at Epoch 7 iteration 0 with loss 0.65147936\n"
     ]
    },
    {
     "name": "stderr",
     "output_type": "stream",
     "text": [
      "/var/folders/g0/93h1vwd10rq00w5yx9hftvxm0000gq/T/ipykernel_74238/2916935592.py:55: RuntimeWarning: invalid value encountered in true_divide\n",
      "  precision = tpr / (tpr + fpr)\n"
     ]
    },
    {
     "name": "stdout",
     "output_type": "stream",
     "text": [
      "optimal threshold: 0.4399678409099579\n",
      "AUROC:0.8811787701812512\n",
      "AUPRC: 0.5392874262979078\n",
      "Confusion Matrix : \n",
      " [[4237 1480]\n",
      " [ 116  811]]\n",
      "Recall :  0.8748651564185544\n",
      "Precision :  0.3539938891313837\n",
      "Accuracy :  0.7597832630945214\n",
      "Sensitivity :  0.7411229665908693\n",
      "Specificity :  0.8748651564185544\n",
      "Validation at Epoch 7 , AUROC: 0.8811787701812512 , AUPRC: 0.5392874262979078 , F1: 0.5208053691275167\n",
      "Training at Epoch 7 iteration 100 with loss 0.9035216\n",
      "Training at Epoch 7 iteration 200 with loss 0.37151074\n",
      "Training at Epoch 7 iteration 300 with loss 0.65344715\n",
      "Training at Epoch 7 iteration 400 with loss 0.37424666\n",
      "Training at Epoch 7 iteration 500 with loss 0.118147954\n",
      "Training at Epoch 7 iteration 600 with loss 0.31557864\n",
      "Training at Epoch 7 iteration 700 with loss 0.11143083\n",
      "Training at Epoch 7 iteration 800 with loss 0.519423\n",
      "Training at Epoch 7 iteration 900 with loss 0.3015175\n",
      "Training at Epoch 7 iteration 1000 with loss 0.22564462\n"
     ]
    },
    {
     "name": "stderr",
     "output_type": "stream",
     "text": [
      "/var/folders/g0/93h1vwd10rq00w5yx9hftvxm0000gq/T/ipykernel_74238/2916935592.py:55: RuntimeWarning: invalid value encountered in true_divide\n",
      "  precision = tpr / (tpr + fpr)\n"
     ]
    },
    {
     "name": "stdout",
     "output_type": "stream",
     "text": [
      "optimal threshold: 0.30973008275032043\n",
      "AUROC:0.8828647277117263\n",
      "AUPRC: 0.5363769827367689\n",
      "Confusion Matrix : \n",
      " [[4014 1703]\n",
      " [  80  847]]\n",
      "Recall :  0.9137001078748651\n",
      "Precision :  0.33215686274509804\n",
      "Accuracy :  0.731637567730283\n",
      "Sensitivity :  0.7021164946650341\n",
      "Specificity :  0.9137001078748651\n",
      "Validation at Epoch 7 , AUROC: 0.8828647277117263 , AUPRC: 0.5363769827367689 , F1: 0.5301632363378282\n",
      "Training at Epoch 7 iteration 1100 with loss 0.23497975\n",
      "Training at Epoch 7 iteration 1200 with loss 0.7589859\n",
      "Training at Epoch 7 iteration 1300 with loss 0.19997072\n",
      "Training at Epoch 7 iteration 1400 with loss 1.1100525\n",
      "Training at Epoch 7 iteration 1500 with loss 0.30895907\n",
      "Training at Epoch 7 iteration 1600 with loss 0.2906143\n",
      "Training at Epoch 7 iteration 1700 with loss 0.27142146\n"
     ]
    }
   ],
   "source": [
    "# fold 1\n",
    "#biosnap interaction times 1e-6, flat, batch size 64, len 205, channel 3, epoch 50\n",
    "s = time()\n",
    "model_max, loss_history = main(1, 5e-6)\n",
    "e = time()\n",
    "print(e-s)\n",
    "lh = list(filter(lambda x: x < 1, loss_history))\n",
    "plt.plot(lh)"
   ]
  },
  {
   "cell_type": "code",
   "execution_count": null,
   "metadata": {},
   "outputs": [],
   "source": [
    "torch.tensor([1.0, 2.0]).cuda()"
   ]
  },
  {
   "cell_type": "code",
   "execution_count": 4,
   "metadata": {},
   "outputs": [
    {
     "name": "stdout",
     "output_type": "stream",
     "text": [
      "1.11.0.dev20211106+cu113\n"
     ]
    }
   ],
   "source": [
    "print(torch.__version__)"
   ]
  },
  {
   "cell_type": "code",
   "execution_count": 23,
   "metadata": {},
   "outputs": [],
   "source": [
    "config = BIN_config_DBPE()\n",
    "\n",
    "BATCH_SIZE = config['batch_size']\n",
    "\n",
    "params = {'batch_size': BATCH_SIZE,\n",
    "              'shuffle': True,\n",
    "              'num_workers': 6, \n",
    "              'drop_last': True}\n",
    "\n",
    "dataFolder = './dataset/BIOSNAP/full_data'\n",
    "df_train = pd.read_csv(dataFolder + '/train.csv')\n",
    "df_val = pd.read_csv(dataFolder + '/val.csv')\n",
    "df_test = pd.read_csv(dataFolder + '/test.csv')\n",
    "\n",
    "training_set = BIN_Data_Encoder(df_train.index.values, df_train.Label.values, df_train)\n",
    "training_generator = data.DataLoader(training_set, **params)"
   ]
  },
  {
   "cell_type": "code",
   "execution_count": 24,
   "metadata": {},
   "outputs": [
    {
     "data": {
      "text/html": [
       "<div>\n",
       "<style scoped>\n",
       "    .dataframe tbody tr th:only-of-type {\n",
       "        vertical-align: middle;\n",
       "    }\n",
       "\n",
       "    .dataframe tbody tr th {\n",
       "        vertical-align: top;\n",
       "    }\n",
       "\n",
       "    .dataframe thead th {\n",
       "        text-align: right;\n",
       "    }\n",
       "</style>\n",
       "<table border=\"1\" class=\"dataframe\">\n",
       "  <thead>\n",
       "    <tr style=\"text-align: right;\">\n",
       "      <th></th>\n",
       "      <th>Unnamed: 0</th>\n",
       "      <th>Unnamed: 0.1</th>\n",
       "      <th>Unnamed: 0.1.1</th>\n",
       "      <th>DrugBank ID</th>\n",
       "      <th>Gene</th>\n",
       "      <th>Label</th>\n",
       "      <th>SMILES</th>\n",
       "      <th>Target Sequence</th>\n",
       "    </tr>\n",
       "  </thead>\n",
       "  <tbody>\n",
       "    <tr>\n",
       "      <th>0</th>\n",
       "      <td>0</td>\n",
       "      <td>3</td>\n",
       "      <td>4</td>\n",
       "      <td>DB08533</td>\n",
       "      <td>P49862</td>\n",
       "      <td>0.0</td>\n",
       "      <td>CC1=CN=C2N1C=CN=C2NCC1=CC=NC=C1</td>\n",
       "      <td>MARSLLLPLQILLLSLALETAGEEAQGDKIIDGAPCARGSHPWQVA...</td>\n",
       "    </tr>\n",
       "    <tr>\n",
       "      <th>1</th>\n",
       "      <td>1</td>\n",
       "      <td>4</td>\n",
       "      <td>5</td>\n",
       "      <td>DB00755</td>\n",
       "      <td>P48443</td>\n",
       "      <td>1.0</td>\n",
       "      <td>C\\C(\\C=C\\C1=C(C)CCCC1(C)C)=C/C=C/C(/C)=C/C(O)=O</td>\n",
       "      <td>MYGNYSHFMKFPAGYGGSPGHTGSTSMSPSAALSTGKPMDSHPSYT...</td>\n",
       "    </tr>\n",
       "    <tr>\n",
       "      <th>2</th>\n",
       "      <td>2</td>\n",
       "      <td>5</td>\n",
       "      <td>6</td>\n",
       "      <td>DB00361</td>\n",
       "      <td>O60218</td>\n",
       "      <td>0.0</td>\n",
       "      <td>[H][C@@]12N(C)C3=CC(OC)=C(C=C3[C@@]11CCN3CC=C[...</td>\n",
       "      <td>MATFVELSTKAKMPIVGLGTWKSPLGKVKEAVKVAIDAGYRHIDCA...</td>\n",
       "    </tr>\n",
       "    <tr>\n",
       "      <th>3</th>\n",
       "      <td>3</td>\n",
       "      <td>7</td>\n",
       "      <td>8</td>\n",
       "      <td>DB01136</td>\n",
       "      <td>P08588</td>\n",
       "      <td>1.0</td>\n",
       "      <td>COC1=CC=CC=C1OCCNCC(O)COC1=CC=CC2=C1C1=CC=CC=C1N2</td>\n",
       "      <td>MGAGVLVLGASEPGNLSSAAPLPDGAATAARLLVPASPPASLLPPA...</td>\n",
       "    </tr>\n",
       "    <tr>\n",
       "      <th>4</th>\n",
       "      <td>4</td>\n",
       "      <td>8</td>\n",
       "      <td>9</td>\n",
       "      <td>DB06963</td>\n",
       "      <td>Q9Y691</td>\n",
       "      <td>0.0</td>\n",
       "      <td>[H][C@@](C)(NC1=CC2=C(C=N1)C(C)=NN2C1=CC=CC(CC...</td>\n",
       "      <td>MFIWTSGRTSSSYRHDEKRNIYQKIRDHDLLDKRKTVTALKAGEDR...</td>\n",
       "    </tr>\n",
       "  </tbody>\n",
       "</table>\n",
       "</div>"
      ],
      "text/plain": [
       "   Unnamed: 0  Unnamed: 0.1  Unnamed: 0.1.1 DrugBank ID    Gene  Label  \\\n",
       "0           0             3               4     DB08533  P49862    0.0   \n",
       "1           1             4               5     DB00755  P48443    1.0   \n",
       "2           2             5               6     DB00361  O60218    0.0   \n",
       "3           3             7               8     DB01136  P08588    1.0   \n",
       "4           4             8               9     DB06963  Q9Y691    0.0   \n",
       "\n",
       "                                              SMILES  \\\n",
       "0                    CC1=CN=C2N1C=CN=C2NCC1=CC=NC=C1   \n",
       "1    C\\C(\\C=C\\C1=C(C)CCCC1(C)C)=C/C=C/C(/C)=C/C(O)=O   \n",
       "2  [H][C@@]12N(C)C3=CC(OC)=C(C=C3[C@@]11CCN3CC=C[...   \n",
       "3  COC1=CC=CC=C1OCCNCC(O)COC1=CC=CC2=C1C1=CC=CC=C1N2   \n",
       "4  [H][C@@](C)(NC1=CC2=C(C=N1)C(C)=NN2C1=CC=CC(CC...   \n",
       "\n",
       "                                     Target Sequence  \n",
       "0  MARSLLLPLQILLLSLALETAGEEAQGDKIIDGAPCARGSHPWQVA...  \n",
       "1  MYGNYSHFMKFPAGYGGSPGHTGSTSMSPSAALSTGKPMDSHPSYT...  \n",
       "2  MATFVELSTKAKMPIVGLGTWKSPLGKVKEAVKVAIDAGYRHIDCA...  \n",
       "3  MGAGVLVLGASEPGNLSSAAPLPDGAATAARLLVPASPPASLLPPA...  \n",
       "4  MFIWTSGRTSSSYRHDEKRNIYQKIRDHDLLDKRKTVTALKAGEDR...  "
      ]
     },
     "execution_count": 24,
     "metadata": {},
     "output_type": "execute_result"
    }
   ],
   "source": [
    "df_train.head()"
   ]
  },
  {
   "cell_type": "code",
   "execution_count": 25,
   "metadata": {},
   "outputs": [
    {
     "ename": "KeyError",
     "evalue": "'drug_encoding'",
     "output_type": "error",
     "traceback": [
      "\u001b[0;31m---------------------------------------------------------------------------\u001b[0m",
      "\u001b[0;31mKeyError\u001b[0m                                  Traceback (most recent call last)",
      "\u001b[0;32m~/.local/lib/python3.9/site-packages/pandas/core/indexes/base.py\u001b[0m in \u001b[0;36mget_loc\u001b[0;34m(self, key, method, tolerance)\u001b[0m\n\u001b[1;32m   3360\u001b[0m             \u001b[0;32mtry\u001b[0m\u001b[0;34m:\u001b[0m\u001b[0;34m\u001b[0m\u001b[0;34m\u001b[0m\u001b[0m\n\u001b[0;32m-> 3361\u001b[0;31m                 \u001b[0;32mreturn\u001b[0m \u001b[0mself\u001b[0m\u001b[0;34m.\u001b[0m\u001b[0m_engine\u001b[0m\u001b[0;34m.\u001b[0m\u001b[0mget_loc\u001b[0m\u001b[0;34m(\u001b[0m\u001b[0mcasted_key\u001b[0m\u001b[0;34m)\u001b[0m\u001b[0;34m\u001b[0m\u001b[0;34m\u001b[0m\u001b[0m\n\u001b[0m\u001b[1;32m   3362\u001b[0m             \u001b[0;32mexcept\u001b[0m \u001b[0mKeyError\u001b[0m \u001b[0;32mas\u001b[0m \u001b[0merr\u001b[0m\u001b[0;34m:\u001b[0m\u001b[0;34m\u001b[0m\u001b[0;34m\u001b[0m\u001b[0m\n",
      "\u001b[0;32m~/.local/lib/python3.9/site-packages/pandas/_libs/index.pyx\u001b[0m in \u001b[0;36mpandas._libs.index.IndexEngine.get_loc\u001b[0;34m()\u001b[0m\n",
      "\u001b[0;32m~/.local/lib/python3.9/site-packages/pandas/_libs/index.pyx\u001b[0m in \u001b[0;36mpandas._libs.index.IndexEngine.get_loc\u001b[0;34m()\u001b[0m\n",
      "\u001b[0;32mpandas/_libs/hashtable_class_helper.pxi\u001b[0m in \u001b[0;36mpandas._libs.hashtable.PyObjectHashTable.get_item\u001b[0;34m()\u001b[0m\n",
      "\u001b[0;32mpandas/_libs/hashtable_class_helper.pxi\u001b[0m in \u001b[0;36mpandas._libs.hashtable.PyObjectHashTable.get_item\u001b[0;34m()\u001b[0m\n",
      "\u001b[0;31mKeyError\u001b[0m: 'drug_encoding'",
      "\nThe above exception was the direct cause of the following exception:\n",
      "\u001b[0;31mKeyError\u001b[0m                                  Traceback (most recent call last)",
      "\u001b[0;32m/tmp/ipykernel_25371/819507625.py\u001b[0m in \u001b[0;36m<module>\u001b[0;34m\u001b[0m\n\u001b[0;32m----> 1\u001b[0;31m \u001b[0mdf_train\u001b[0m\u001b[0;34m[\u001b[0m\u001b[0;34m\"drug_encoding\"\u001b[0m\u001b[0;34m]\u001b[0m\u001b[0;34m[\u001b[0m\u001b[0;36m0\u001b[0m\u001b[0;34m]\u001b[0m\u001b[0;34m\u001b[0m\u001b[0;34m\u001b[0m\u001b[0m\n\u001b[0m",
      "\u001b[0;32m~/.local/lib/python3.9/site-packages/pandas/core/frame.py\u001b[0m in \u001b[0;36m__getitem__\u001b[0;34m(self, key)\u001b[0m\n\u001b[1;32m   3453\u001b[0m             \u001b[0;32mif\u001b[0m \u001b[0mself\u001b[0m\u001b[0;34m.\u001b[0m\u001b[0mcolumns\u001b[0m\u001b[0;34m.\u001b[0m\u001b[0mnlevels\u001b[0m \u001b[0;34m>\u001b[0m \u001b[0;36m1\u001b[0m\u001b[0;34m:\u001b[0m\u001b[0;34m\u001b[0m\u001b[0;34m\u001b[0m\u001b[0m\n\u001b[1;32m   3454\u001b[0m                 \u001b[0;32mreturn\u001b[0m \u001b[0mself\u001b[0m\u001b[0;34m.\u001b[0m\u001b[0m_getitem_multilevel\u001b[0m\u001b[0;34m(\u001b[0m\u001b[0mkey\u001b[0m\u001b[0;34m)\u001b[0m\u001b[0;34m\u001b[0m\u001b[0;34m\u001b[0m\u001b[0m\n\u001b[0;32m-> 3455\u001b[0;31m             \u001b[0mindexer\u001b[0m \u001b[0;34m=\u001b[0m \u001b[0mself\u001b[0m\u001b[0;34m.\u001b[0m\u001b[0mcolumns\u001b[0m\u001b[0;34m.\u001b[0m\u001b[0mget_loc\u001b[0m\u001b[0;34m(\u001b[0m\u001b[0mkey\u001b[0m\u001b[0;34m)\u001b[0m\u001b[0;34m\u001b[0m\u001b[0;34m\u001b[0m\u001b[0m\n\u001b[0m\u001b[1;32m   3456\u001b[0m             \u001b[0;32mif\u001b[0m \u001b[0mis_integer\u001b[0m\u001b[0;34m(\u001b[0m\u001b[0mindexer\u001b[0m\u001b[0;34m)\u001b[0m\u001b[0;34m:\u001b[0m\u001b[0;34m\u001b[0m\u001b[0;34m\u001b[0m\u001b[0m\n\u001b[1;32m   3457\u001b[0m                 \u001b[0mindexer\u001b[0m \u001b[0;34m=\u001b[0m \u001b[0;34m[\u001b[0m\u001b[0mindexer\u001b[0m\u001b[0;34m]\u001b[0m\u001b[0;34m\u001b[0m\u001b[0;34m\u001b[0m\u001b[0m\n",
      "\u001b[0;32m~/.local/lib/python3.9/site-packages/pandas/core/indexes/base.py\u001b[0m in \u001b[0;36mget_loc\u001b[0;34m(self, key, method, tolerance)\u001b[0m\n\u001b[1;32m   3361\u001b[0m                 \u001b[0;32mreturn\u001b[0m \u001b[0mself\u001b[0m\u001b[0;34m.\u001b[0m\u001b[0m_engine\u001b[0m\u001b[0;34m.\u001b[0m\u001b[0mget_loc\u001b[0m\u001b[0;34m(\u001b[0m\u001b[0mcasted_key\u001b[0m\u001b[0;34m)\u001b[0m\u001b[0;34m\u001b[0m\u001b[0;34m\u001b[0m\u001b[0m\n\u001b[1;32m   3362\u001b[0m             \u001b[0;32mexcept\u001b[0m \u001b[0mKeyError\u001b[0m \u001b[0;32mas\u001b[0m \u001b[0merr\u001b[0m\u001b[0;34m:\u001b[0m\u001b[0;34m\u001b[0m\u001b[0;34m\u001b[0m\u001b[0m\n\u001b[0;32m-> 3363\u001b[0;31m                 \u001b[0;32mraise\u001b[0m \u001b[0mKeyError\u001b[0m\u001b[0;34m(\u001b[0m\u001b[0mkey\u001b[0m\u001b[0;34m)\u001b[0m \u001b[0;32mfrom\u001b[0m \u001b[0merr\u001b[0m\u001b[0;34m\u001b[0m\u001b[0;34m\u001b[0m\u001b[0m\n\u001b[0m\u001b[1;32m   3364\u001b[0m \u001b[0;34m\u001b[0m\u001b[0m\n\u001b[1;32m   3365\u001b[0m         \u001b[0;32mif\u001b[0m \u001b[0mis_scalar\u001b[0m\u001b[0;34m(\u001b[0m\u001b[0mkey\u001b[0m\u001b[0;34m)\u001b[0m \u001b[0;32mand\u001b[0m \u001b[0misna\u001b[0m\u001b[0;34m(\u001b[0m\u001b[0mkey\u001b[0m\u001b[0;34m)\u001b[0m \u001b[0;32mand\u001b[0m \u001b[0;32mnot\u001b[0m \u001b[0mself\u001b[0m\u001b[0;34m.\u001b[0m\u001b[0mhasnans\u001b[0m\u001b[0;34m:\u001b[0m\u001b[0;34m\u001b[0m\u001b[0;34m\u001b[0m\u001b[0m\n",
      "\u001b[0;31mKeyError\u001b[0m: 'drug_encoding'"
     ]
    }
   ],
   "source": [
    "df_train[\"drug_encoding\"][0]"
   ]
  },
  {
   "cell_type": "code",
   "execution_count": 26,
   "metadata": {},
   "outputs": [
    {
     "name": "stdout",
     "output_type": "stream",
     "text": [
      "DRUG:\n",
      "torch.Size([16, 50])\n",
      "tensor([[ 3291,   300,   471,   117,  7522,  1804,   147,  2268,    91,  1855,\n",
      "            82,   211,   623,     0,     0,     0,     0,     0,     0,     0,\n",
      "             0,     0,     0,     0,     0,     0,     0,     0,     0,     0,\n",
      "             0,     0,     0,     0,     0,     0,     0,     0,     0,     0,\n",
      "             0,     0,     0,     0,     0,     0,     0,     0,     0,     0],\n",
      "        [    7,    66,  5763,    63,  3821, 13901,     7,    66,    11,  3901,\n",
      "             7,    66,   189,  5374,   156,    10,     7,    66,    11,  1077,\n",
      "          1176,     0,     0,     0,     0,     0,     0,     0,     0,     0,\n",
      "             0,     0,     0,     0,     0,     0,     0,     0,     0,     0,\n",
      "             0,     0,     0,     0,     0,     0,     0,     0,     0,     0],\n",
      "        [10440, 18363,  6525, 20141,   569,     0,     0,     0,     0,     0,\n",
      "             0,     0,     0,     0,     0,     0,     0,     0,     0,     0,\n",
      "             0,     0,     0,     0,     0,     0,     0,     0,     0,     0,\n",
      "             0,     0,     0,     0,     0,     0,     0,     0,     0,     0,\n",
      "             0,     0,     0,     0,     0,     0,     0,     0,     0,     0],\n",
      "        [ 5370,  4775,   363,   126,  1423,  1421,  5418,   623,   312,   300,\n",
      "          1423,    25,     0,     0,     0,     0,     0,     0,     0,     0,\n",
      "             0,     0,     0,     0,     0,     0,     0,     0,     0,     0,\n",
      "             0,     0,     0,     0,     0,     0,     0,     0,     0,     0,\n",
      "             0,     0,     0,     0,     0,     0,     0,     0,     0,     0],\n",
      "        [ 1836,   117,     0,     0,     0,     0,     0,     0,     0,     0,\n",
      "             0,     0,     0,     0,     0,     0,     0,     0,     0,     0,\n",
      "             0,     0,     0,     0,     0,     0,     0,     0,     0,     0,\n",
      "             0,     0,     0,     0,     0,     0,     0,     0,     0,     0,\n",
      "             0,     0,     0,     0,     0,     0,     0,     0,     0,     0],\n",
      "        [ 2054,  1423,   166,   568,  1423, 21162, 17275,     0,     0,     0,\n",
      "             0,     0,     0,     0,     0,     0,     0,     0,     0,     0,\n",
      "             0,     0,     0,     0,     0,     0,     0,     0,     0,     0,\n",
      "             0,     0,     0,     0,     0,     0,     0,     0,     0,     0,\n",
      "             0,     0,     0,     0,     0,     0,     0,     0,     0,     0],\n",
      "        [ 3344,    93,   179,     0,     0,     0,     0,     0,     0,     0,\n",
      "             0,     0,     0,     0,     0,     0,     0,     0,     0,     0,\n",
      "             0,     0,     0,     0,     0,     0,     0,     0,     0,     0,\n",
      "             0,     0,     0,     0,     0,     0,     0,     0,     0,     0,\n",
      "             0,     0,     0,     0,     0,     0,     0,     0,     0,     0],\n",
      "        [    7,    66,   409,  7877,   105,    69,   623, 13474,  2223,   623,\n",
      "           312,   300,    93,  1423,    25,     0,     0,     0,     0,     0,\n",
      "             0,     0,     0,     0,     0,     0,     0,     0,     0,     0,\n",
      "             0,     0,     0,     0,     0,     0,     0,     0,     0,     0,\n",
      "             0,     0,     0,     0,     0,     0,     0,     0,     0,     0],\n",
      "        [    7,    66,  3756,   221,   151,  2350,   160,  1423,  4804,   229,\n",
      "           298,    90,  6439,   177,   409,    94,  3901,     7,    66,    83,\n",
      "           154,  6862,  2354,  1176,     0,     0,     0,     0,     0,     0,\n",
      "             0,     0,     0,     0,     0,     0,     0,     0,     0,     0,\n",
      "             0,     0,     0,     0,     0,     0,     0,     0,     0,     0],\n",
      "        [  839,  3329,   378,  5778,   623,    86,   312,   300,  9580,   240,\n",
      "           421,    77,   383,  1648,   179,     0,     0,     0,     0,     0,\n",
      "             0,     0,     0,     0,     0,     0,     0,     0,     0,     0,\n",
      "             0,     0,     0,     0,     0,     0,     0,     0,     0,     0,\n",
      "             0,     0,     0,     0,     0,     0,     0,     0,     0,     0],\n",
      "        [    7,    66,  2324,   868,    82,   397, 14071,  1154,   409,  4649,\n",
      "         10032,   151,    10,     7,    66,  2512,   377,   310,   393,   366,\n",
      "           508,  3765,   587,  5970,     0,     0,     0,     0,     0,     0,\n",
      "             0,     0,     0,     0,     0,     0,     0,     0,     0,     0,\n",
      "             0,     0,     0,     0,     0,     0,     0,     0,     0,     0],\n",
      "        [ 8216,   317,   358, 10325,   828,  1229,    22,  8991,   300,  1423,\n",
      "            25,     0,     0,     0,     0,     0,     0,     0,     0,     0,\n",
      "             0,     0,     0,     0,     0,     0,     0,     0,     0,     0,\n",
      "             0,     0,     0,     0,     0,     0,     0,     0,     0,     0,\n",
      "             0,     0,     0,     0,     0,     0,     0,     0,     0,     0],\n",
      "        [ 4712,   176,    25,   312,   300,   493,  8650,  1156,   115,  1282,\n",
      "            28,  1143,    13,  2510,    22,  1423,   239,    82,   211,  1220,\n",
      "           126,   296,     0,     0,     0,     0,     0,     0,     0,     0,\n",
      "             0,     0,     0,     0,     0,     0,     0,     0,     0,     0,\n",
      "             0,     0,     0,     0,     0,     0,     0,     0,     0,     0],\n",
      "        [ 1696,   161, 10981, 23499,   409,  2134,   563,    82,  6448,  4007,\n",
      "         10566,    93,   179,     0,     0,     0,     0,     0,     0,     0,\n",
      "             0,     0,     0,     0,     0,     0,     0,     0,     0,     0,\n",
      "             0,     0,     0,     0,     0,     0,     0,     0,     0,     0,\n",
      "             0,     0,     0,     0,     0,     0,     0,     0,     0,     0],\n",
      "        [  218, 23114,  4527,    82,  1602,   700,     0,     0,     0,     0,\n",
      "             0,     0,     0,     0,     0,     0,     0,     0,     0,     0,\n",
      "             0,     0,     0,     0,     0,     0,     0,     0,     0,     0,\n",
      "             0,     0,     0,     0,     0,     0,     0,     0,     0,     0,\n",
      "             0,     0,     0,     0,     0,     0,     0,     0,     0,     0],\n",
      "        [  833,  1613,  1423,    93,  2794,   312,    93,   538,     0,     0,\n",
      "             0,     0,     0,     0,     0,     0,     0,     0,     0,     0,\n",
      "             0,     0,     0,     0,     0,     0,     0,     0,     0,     0,\n",
      "             0,     0,     0,     0,     0,     0,     0,     0,     0,     0,\n",
      "             0,     0,     0,     0,     0,     0,     0,     0,     0,     0]])\n",
      "PROTEIN:\n",
      "torch.Size([16, 545])\n",
      "tensor([[1554,   27, 1180,  ...,    0,    0,    0],\n",
      "        [ 132,  816,  576,  ...,  103, 4994,   15],\n",
      "        [ 137,   81,  273,  ...,    0,    0,    0],\n",
      "        ...,\n",
      "        [ 832,  434,  303,  ...,    0,    0,    0],\n",
      "        [ 592,  275,   95,  ...,    0,    0,    0],\n",
      "        [ 670,  101,   36,  ...,    0,    0,    0]])\n",
      "DRUG MASK:\n",
      "tensor([[1, 1, 1, 1, 1, 1, 1, 1, 1, 1, 1, 1, 1, 0, 0, 0, 0, 0, 0, 0, 0, 0, 0, 0,\n",
      "         0, 0, 0, 0, 0, 0, 0, 0, 0, 0, 0, 0, 0, 0, 0, 0, 0, 0, 0, 0, 0, 0, 0, 0,\n",
      "         0, 0],\n",
      "        [1, 1, 1, 1, 1, 1, 1, 1, 1, 1, 1, 1, 1, 1, 1, 1, 1, 1, 1, 1, 1, 0, 0, 0,\n",
      "         0, 0, 0, 0, 0, 0, 0, 0, 0, 0, 0, 0, 0, 0, 0, 0, 0, 0, 0, 0, 0, 0, 0, 0,\n",
      "         0, 0],\n",
      "        [1, 1, 1, 1, 1, 0, 0, 0, 0, 0, 0, 0, 0, 0, 0, 0, 0, 0, 0, 0, 0, 0, 0, 0,\n",
      "         0, 0, 0, 0, 0, 0, 0, 0, 0, 0, 0, 0, 0, 0, 0, 0, 0, 0, 0, 0, 0, 0, 0, 0,\n",
      "         0, 0],\n",
      "        [1, 1, 1, 1, 1, 1, 1, 1, 1, 1, 1, 1, 0, 0, 0, 0, 0, 0, 0, 0, 0, 0, 0, 0,\n",
      "         0, 0, 0, 0, 0, 0, 0, 0, 0, 0, 0, 0, 0, 0, 0, 0, 0, 0, 0, 0, 0, 0, 0, 0,\n",
      "         0, 0],\n",
      "        [1, 1, 0, 0, 0, 0, 0, 0, 0, 0, 0, 0, 0, 0, 0, 0, 0, 0, 0, 0, 0, 0, 0, 0,\n",
      "         0, 0, 0, 0, 0, 0, 0, 0, 0, 0, 0, 0, 0, 0, 0, 0, 0, 0, 0, 0, 0, 0, 0, 0,\n",
      "         0, 0],\n",
      "        [1, 1, 1, 1, 1, 1, 1, 0, 0, 0, 0, 0, 0, 0, 0, 0, 0, 0, 0, 0, 0, 0, 0, 0,\n",
      "         0, 0, 0, 0, 0, 0, 0, 0, 0, 0, 0, 0, 0, 0, 0, 0, 0, 0, 0, 0, 0, 0, 0, 0,\n",
      "         0, 0],\n",
      "        [1, 1, 1, 0, 0, 0, 0, 0, 0, 0, 0, 0, 0, 0, 0, 0, 0, 0, 0, 0, 0, 0, 0, 0,\n",
      "         0, 0, 0, 0, 0, 0, 0, 0, 0, 0, 0, 0, 0, 0, 0, 0, 0, 0, 0, 0, 0, 0, 0, 0,\n",
      "         0, 0],\n",
      "        [1, 1, 1, 1, 1, 1, 1, 1, 1, 1, 1, 1, 1, 1, 1, 0, 0, 0, 0, 0, 0, 0, 0, 0,\n",
      "         0, 0, 0, 0, 0, 0, 0, 0, 0, 0, 0, 0, 0, 0, 0, 0, 0, 0, 0, 0, 0, 0, 0, 0,\n",
      "         0, 0],\n",
      "        [1, 1, 1, 1, 1, 1, 1, 1, 1, 1, 1, 1, 1, 1, 1, 1, 1, 1, 1, 1, 1, 1, 1, 1,\n",
      "         0, 0, 0, 0, 0, 0, 0, 0, 0, 0, 0, 0, 0, 0, 0, 0, 0, 0, 0, 0, 0, 0, 0, 0,\n",
      "         0, 0],\n",
      "        [1, 1, 1, 1, 1, 1, 1, 1, 1, 1, 1, 1, 1, 1, 1, 0, 0, 0, 0, 0, 0, 0, 0, 0,\n",
      "         0, 0, 0, 0, 0, 0, 0, 0, 0, 0, 0, 0, 0, 0, 0, 0, 0, 0, 0, 0, 0, 0, 0, 0,\n",
      "         0, 0],\n",
      "        [1, 1, 1, 1, 1, 1, 1, 1, 1, 1, 1, 1, 1, 1, 1, 1, 1, 1, 1, 1, 1, 1, 1, 1,\n",
      "         0, 0, 0, 0, 0, 0, 0, 0, 0, 0, 0, 0, 0, 0, 0, 0, 0, 0, 0, 0, 0, 0, 0, 0,\n",
      "         0, 0],\n",
      "        [1, 1, 1, 1, 1, 1, 1, 1, 1, 1, 1, 0, 0, 0, 0, 0, 0, 0, 0, 0, 0, 0, 0, 0,\n",
      "         0, 0, 0, 0, 0, 0, 0, 0, 0, 0, 0, 0, 0, 0, 0, 0, 0, 0, 0, 0, 0, 0, 0, 0,\n",
      "         0, 0],\n",
      "        [1, 1, 1, 1, 1, 1, 1, 1, 1, 1, 1, 1, 1, 1, 1, 1, 1, 1, 1, 1, 1, 1, 0, 0,\n",
      "         0, 0, 0, 0, 0, 0, 0, 0, 0, 0, 0, 0, 0, 0, 0, 0, 0, 0, 0, 0, 0, 0, 0, 0,\n",
      "         0, 0],\n",
      "        [1, 1, 1, 1, 1, 1, 1, 1, 1, 1, 1, 1, 1, 0, 0, 0, 0, 0, 0, 0, 0, 0, 0, 0,\n",
      "         0, 0, 0, 0, 0, 0, 0, 0, 0, 0, 0, 0, 0, 0, 0, 0, 0, 0, 0, 0, 0, 0, 0, 0,\n",
      "         0, 0],\n",
      "        [1, 1, 1, 1, 1, 1, 0, 0, 0, 0, 0, 0, 0, 0, 0, 0, 0, 0, 0, 0, 0, 0, 0, 0,\n",
      "         0, 0, 0, 0, 0, 0, 0, 0, 0, 0, 0, 0, 0, 0, 0, 0, 0, 0, 0, 0, 0, 0, 0, 0,\n",
      "         0, 0],\n",
      "        [1, 1, 1, 1, 1, 1, 1, 1, 0, 0, 0, 0, 0, 0, 0, 0, 0, 0, 0, 0, 0, 0, 0, 0,\n",
      "         0, 0, 0, 0, 0, 0, 0, 0, 0, 0, 0, 0, 0, 0, 0, 0, 0, 0, 0, 0, 0, 0, 0, 0,\n",
      "         0, 0]])\n",
      "PROTEIN MASK:\n",
      "tensor([[1, 1, 1,  ..., 0, 0, 0],\n",
      "        [1, 1, 1,  ..., 1, 1, 1],\n",
      "        [1, 1, 1,  ..., 0, 0, 0],\n",
      "        ...,\n",
      "        [1, 1, 1,  ..., 0, 0, 0],\n",
      "        [1, 1, 1,  ..., 0, 0, 0],\n",
      "        [1, 1, 1,  ..., 0, 0, 0]])\n",
      "LABEL\n",
      "torch.Size([16])\n",
      "tensor([0., 1., 1., 0., 0., 0., 1., 0., 0., 1., 0., 0., 1., 1., 1., 1.],\n",
      "       dtype=torch.float64)\n"
     ]
    }
   ],
   "source": [
    "for i, (d, p, d_mask, p_mask, label) in enumerate(training_generator):\n",
    "    print(\"DRUG:\")\n",
    "    print(d.shape)\n",
    "    print(d)\n",
    "    print(\"PROTEIN:\")\n",
    "    print(p.shape)\n",
    "    print(p)\n",
    "    print(\"DRUG MASK:\")\n",
    "    print(d_mask)\n",
    "    print(\"PROTEIN MASK:\")\n",
    "    print(p_mask)\n",
    "    print(\"LABEL\")\n",
    "    print(label.shape)\n",
    "    print(label)\n",
    "    break"
   ]
  },
  {
   "cell_type": "code",
   "execution_count": null,
   "metadata": {},
   "outputs": [],
   "source": []
  }
 ],
 "metadata": {
  "kernelspec": {
   "display_name": "Meta-RL (ipykernel)",
   "language": "python",
   "name": "meta-rl"
  },
  "language_info": {
   "codemirror_mode": {
    "name": "ipython",
    "version": 3
   },
   "file_extension": ".py",
   "mimetype": "text/x-python",
   "name": "python",
   "nbconvert_exporter": "python",
   "pygments_lexer": "ipython3",
   "version": "3.9.7"
  }
 },
 "nbformat": 4,
 "nbformat_minor": 2
}
